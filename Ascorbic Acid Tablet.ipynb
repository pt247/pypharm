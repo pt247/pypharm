{
 "cells": [
  {
   "cell_type": "code",
   "execution_count": 116,
   "metadata": {
    "collapsed": false
   },
   "outputs": [],
   "source": [
    "import matplotlib.pyplot as plt\n",
    "import numpy as np \n",
    "def spectroscopic_calculation_from_calibration_curve(interval=[], absorbance=[], title='Calibration curve.'):\n",
    "    \"\"\"\n",
    "    Takes concentrations and absorbances values calculates clalibration curve.\n",
    "    \"\"\"\n",
    "    fig = plt.figure(figsize=(10,6))\n",
    "    axis = fig.add_subplot(111)\n",
    "\n",
    "    z = np.polyfit(interval,absorbance, 1)\n",
    "    p = np.poly1d(z)\n",
    "    axis.plot(interval,absorbance)\n",
    "    axis.plot(\n",
    "        interval, \n",
    "        p(interval), \n",
    "        #color=\"red\", \n",
    "        linestyle='dashed',\n",
    "        linewidth=2,\n",
    "        # marker='o',\n",
    "        markerfacecolor='blue',\n",
    "        markersize=3,\n",
    "    )\n",
    "    axis.grid()\n",
    "    axis.set_title(title)\n",
    "    axis.set_xlabel('Concentration(mcg/ml)')\n",
    "    axis.set_ylabel('Absorbance')\n",
    "    plt.show()\n",
    "    print \"Calibration curve(y = mx + c):\\n{}\".format(p)\n",
    "    from scipy import stats\n",
    "    slope, intercept, r_value, p_value, std_err = stats.linregress(interval,absorbance)\n",
    "    print \"r-squared:\", r_value**2\n",
    "    %matplotlib inline \n",
    "    return p\n",
    "\n",
    "def concentration_values_for_sample(linear_equation=None, sample_absorbance=[]):\n",
    "    conc_values = (sample_absorbance - linear_equation[0])/linear_equation[1]\n",
    "    # print \"Concentration values : {}\".format(conc_values)\n",
    "    print\n",
    "    return conc_values"
   ]
  },
  {
   "cell_type": "code",
   "execution_count": 117,
   "metadata": {
    "collapsed": false
   },
   "outputs": [
    {
     "data": {
      "image/png": "[encoded data removed]",
      "text/plain": [
       "<matplotlib.figure.Figure at 0x10b077810>"
      ]
     },
     "metadata": {},
     "output_type": "display_data"
    },
    {
     "name": "stdout",
     "output_type": "stream",
     "text": [
      "Calibration curve(y = mx + c):\n",
      " \n",
      "0.04151 x - 0.05438\n",
      "r-squared: 0.997069332026\n",
      "Concentration values : \n",
      "[ 2.70727195  4.1526903   1.59911787  7.47715252]\n"
     ]
    }
   ],
   "source": [
    "interval = [1, 5, 10, 20, 50]\n",
    "absorbance = [0.039, 0.165, 0.325, 0.721, 2.048]\n",
    "p = spectroscopic_calculation_from_calibration_curve(\n",
    "    interval=interval, \n",
    "    absorbance=absorbance, \n",
    "    title=\"Calibration Curve for Ascorbic Acid.\"\n",
    ")\n",
    "\n",
    "sample_absorbance = np.array([0.058, 0.118, 0.012, 0.256])\n",
    "print \"Concentration values : \", concentration_values_for_sample(\n",
    "    linear_equation=p,\n",
    "    sample_absorbance=sample_absorbance\n",
    ")"
   ]
  },
  {
   "cell_type": "code",
   "execution_count": 120,
   "metadata": {
    "collapsed": false
   },
   "outputs": [
    {
     "name": "stdout",
     "output_type": "stream",
     "text": [
      "\n",
      "[ 11.4279627    4.46586428  11.66886576  11.0184275   10.17526679\n",
      "   9.13938363  13.28291625  12.22294279  12.2711234   12.22294279]\n"
     ]
    }
   ],
   "source": [
    "new_absorbance = np.array([0.420, 0.131, 0.430, 0.403, 0.368, 0.325, 0.497, 0.453, 0.455, 0.453])\n",
    "print concentration_values_for_sample(\n",
    "    linear_equation=p,\n",
    "    sample_absorbance=new_absorbance\n",
    ")"
   ]
  },
  {
   "cell_type": "code",
   "execution_count": 121,
   "metadata": {
    "collapsed": false
   },
   "outputs": [
    {
     "name": "stdout",
     "output_type": "stream",
     "text": [
      "\n",
      "[  3.04453623  11.57250453  11.30751117  10.77752444   3.93587755\n",
      "   3.11680715  11.47614331   1.50275665   3.95996785   9.76573159]\n"
     ]
    }
   ],
   "source": [
    "new_absorbance = np.array([0.072, 0.426, 0.415, 0.393, 0.109, 0.075, 0.422, 0.008, 0.110, 0.351])\n",
    "print concentration_values_for_sample(\n",
    "    linear_equation=p,\n",
    "    sample_absorbance=new_absorbance\n",
    ")"
   ]
  },
  {
   "cell_type": "code",
   "execution_count": 122,
   "metadata": {
    "collapsed": false
   },
   "outputs": [
    {
     "name": "stdout",
     "output_type": "stream",
     "text": [
      "\n",
      "[ 10.36798924   4.1286      10.05481526   4.27314183   4.5622255\n",
      "   7.98304895   3.79133571   7.81441681   7.23624946   5.47765713]\n"
     ]
    }
   ],
   "source": [
    "new_absorbance = np.array([0.376, 0.117, 0.363, 0.123, 0.135, 0.277, 0.103, 0.270, 0.246, 0.173])\n",
    "print concentration_values_for_sample(\n",
    "    linear_equation=p,\n",
    "    sample_absorbance=new_absorbance\n",
    ")"
   ]
  },
  {
   "cell_type": "code",
   "execution_count": 123,
   "metadata": {
    "collapsed": false
   },
   "outputs": [
    {
     "name": "stdout",
     "output_type": "stream",
     "text": [
      "\n",
      "[ 7.18806885  8.17577139  7.59760405  3.76724541  7.52533313  3.7190648\n",
      "  3.26134898  6.63399181  5.83901172  2.82772348]\n"
     ]
    }
   ],
   "source": [
    "new_absorbance = np.array([0.244, 0.285, 0.261, 0.102, 0.258, 0.100, 0.081, 0.221, 0.188, 0.063])\n",
    "print concentration_values_for_sample(\n",
    "    linear_equation=p,\n",
    "    sample_absorbance=new_absorbance\n",
    ")"
   ]
  },
  {
   "cell_type": "code",
   "execution_count": 181,
   "metadata": {
    "collapsed": false
   },
   "outputs": [
    {
     "name": "stdout",
     "output_type": "stream",
     "text": [
      "[[ 0.072  0.426  0.415  0.393  0.109  0.075  0.422  0.008  0.11   0.351]\n",
      " [ 0.376  0.117  0.363  0.123  0.135  0.277  0.103  0.27   0.246  0.173]\n",
      " [ 0.42   0.131  0.43   0.403  0.368  0.325  0.497  0.453  0.455  0.453]\n",
      " [ 0.244  0.285  0.261  0.102  0.258  0.1    0.081  0.221  0.188  0.063]]\n",
      "--------------\n",
      "Processing:\n",
      "[ 0.072  0.426  0.415  0.393  0.109  0.075  0.422  0.008  0.11   0.351]\n",
      "\n",
      "Results:\n",
      "  [  3.045  11.573  11.308  10.778   3.936   3.117  11.476   1.503   3.96\n",
      "   9.766]\n",
      "--------------\n",
      "--------------\n",
      "Processing:\n",
      "[ 0.376  0.117  0.363  0.123  0.135  0.277  0.103  0.27   0.246  0.173]\n",
      "\n",
      "Results:\n",
      "  [ 10.368   4.129  10.055   4.273   4.562   7.983   3.791   7.814   7.236\n",
      "   5.478]\n",
      "--------------\n",
      "--------------\n",
      "Processing:\n",
      "[ 0.42   0.131  0.43   0.403  0.368  0.325  0.497  0.453  0.455  0.453]\n",
      "\n",
      "Results:\n",
      "  [ 11.428   4.466  11.669  11.018  10.175   9.139  13.283  12.223  12.271\n",
      "  12.223]\n",
      "--------------\n",
      "--------------\n",
      "Processing:\n",
      "[ 0.244  0.285  0.261  0.102  0.258  0.1    0.081  0.221  0.188  0.063]\n",
      "\n",
      "Results:\n",
      "  [ 7.188  8.176  7.598  3.767  7.525  3.719  3.261  6.634  5.839  2.828]\n",
      "--------------\n",
      "Final:\n",
      "[array([ 0.072,  0.426,  0.415,  0.393,  0.109,  0.075,  0.422,  0.008,\n",
      "        0.11 ,  0.351]), array([  3.045,  11.573,  11.308,  10.778,   3.936,   3.117,  11.476,\n",
      "         1.503,   3.96 ,   9.766]), array([ 0.376,  0.117,  0.363,  0.123,  0.135,  0.277,  0.103,  0.27 ,\n",
      "        0.246,  0.173]), array([ 10.368,   4.129,  10.055,   4.273,   4.562,   7.983,   3.791,\n",
      "         7.814,   7.236,   5.478]), array([ 0.42 ,  0.131,  0.43 ,  0.403,  0.368,  0.325,  0.497,  0.453,\n",
      "        0.455,  0.453]), array([ 11.428,   4.466,  11.669,  11.018,  10.175,   9.139,  13.283,\n",
      "        12.223,  12.271,  12.223]), array([ 0.244,  0.285,  0.261,  0.102,  0.258,  0.1  ,  0.081,  0.221,\n",
      "        0.188,  0.063]), array([ 7.188,  8.176,  7.598,  3.767,  7.525,  3.719,  3.261,  6.634,\n",
      "        5.839,  2.828])]\n",
      "/Users/prashant/work/pypharm/Ascorbic_Acid_Tablet_Results:\n",
      "[[  0.072   3.045   0.376  10.368   0.42   11.428   0.244   7.188]\n",
      " [  0.426  11.573   0.117   4.129   0.131   4.466   0.285   8.176]\n",
      " [  0.415  11.308   0.363  10.055   0.43   11.669   0.261   7.598]\n",
      " [  0.393  10.778   0.123   4.273   0.403  11.018   0.102   3.767]\n",
      " [  0.109   3.936   0.135   4.562   0.368  10.175   0.258   7.525]\n",
      " [  0.075   3.117   0.277   7.983   0.325   9.139   0.1     3.719]\n",
      " [  0.422  11.476   0.103   3.791   0.497  13.283   0.081   3.261]\n",
      " [  0.008   1.503   0.27    7.814   0.453  12.223   0.221   6.634]\n",
      " [  0.11    3.96    0.246   7.236   0.455  12.271   0.188   5.839]\n",
      " [  0.351   9.766   0.173   5.478   0.453  12.223   0.063   2.828]]\n"
     ]
    },
    {
     "ename": "AttributeError",
     "evalue": "'numpy.ndarray' object has no attribute 'to_file'",
     "output_type": "error",
     "traceback": [
      "\u001b[0;31m---------------------------------------------------------------------------\u001b[0m",
      "\u001b[0;31mAttributeError\u001b[0m                            Traceback (most recent call last)",
      "\u001b[0;32m<ipython-input-181-c81e9c6810df>\u001b[0m in \u001b[0;36m<module>\u001b[0;34m()\u001b[0m\n\u001b[1;32m     23\u001b[0m \u001b[0;32mprint\u001b[0m \u001b[0;34m\"/Users/prashant/work/pypharm/Ascorbic_Acid_Tablet_Results:\\n\"\u001b[0m\u001b[0;34m,\u001b[0m \u001b[0mnp\u001b[0m\u001b[0;34m.\u001b[0m\u001b[0mswapaxes\u001b[0m\u001b[0;34m(\u001b[0m\u001b[0mfinal_solution\u001b[0m\u001b[0;34m,\u001b[0m \u001b[0;36m0\u001b[0m\u001b[0;34m,\u001b[0m \u001b[0;36m1\u001b[0m\u001b[0;34m)\u001b[0m\u001b[0;34m\u001b[0m\u001b[0m\n\u001b[1;32m     24\u001b[0m \u001b[0mnp\u001b[0m\u001b[0;34m.\u001b[0m\u001b[0mset_printoptions\u001b[0m\u001b[0;34m(\u001b[0m\u001b[0msuppress\u001b[0m\u001b[0;34m=\u001b[0m\u001b[0mTrue\u001b[0m\u001b[0;34m)\u001b[0m\u001b[0;34m\u001b[0m\u001b[0m\n\u001b[0;32m---> 25\u001b[0;31m np.swapaxes(final_solution, 0, 1).to_file(\"/Users/prashant/work/pypharm/Ascorbic_Acid_Tablet_Results.csv\",\n\u001b[0m\u001b[1;32m     26\u001b[0m            \u001b[0mdelimiter\u001b[0m\u001b[0;34m=\u001b[0m\u001b[0;34m\",\"\u001b[0m\u001b[0;34m,\u001b[0m\u001b[0;34m\u001b[0m\u001b[0m\n\u001b[1;32m     27\u001b[0m            \u001b[0mformat\u001b[0m\u001b[0;34m=\u001b[0m\u001b[0;34m'%10.3f'\u001b[0m\u001b[0;34m\u001b[0m\u001b[0m\n",
      "\u001b[0;31mAttributeError\u001b[0m: 'numpy.ndarray' object has no attribute 'to_file'"
     ]
    }
   ],
   "source": [
    "array_of_array =  np.array([\n",
    "        [0.072, 0.426, 0.415, 0.393, 0.109, 0.075, 0.422, 0.008, 0.110, 0.351],\n",
    "        [0.376, 0.117, 0.363, 0.123, 0.135, 0.277, 0.103, 0.270, 0.246, 0.173],\n",
    "        [0.420, 0.131, 0.430, 0.403, 0.368, 0.325, 0.497, 0.453, 0.455, 0.453],\n",
    "        [0.244, 0.285, 0.261, 0.102, 0.258, 0.100, 0.081, 0.221, 0.188, 0.063],\n",
    "    ])\n",
    "new_array_of_array = []\n",
    "print array_of_array\n",
    "for new_absorbance in array_of_array:\n",
    "    print '--------------'\n",
    "    new_array_of_array.append(new_absorbance)\n",
    "    print \"Processing:\\n\", new_absorbance\n",
    "    _conc = concentration_values_for_sample(linear_equation=p, sample_absorbance=new_absorbance)\n",
    "    print \"Results:\\n \", _conc\n",
    "    new_array_of_array.append(_conc)\n",
    "    new_array_of_array\n",
    "    print '--------------'\n",
    "\n",
    "print \"Final:\\n\", new_array_of_array\n",
    "final_solution = np.array(new_array_of_array)\n",
    "np.set_printoptions(precision=3)\n",
    "np.set_printoptions(suppress=True)\n",
    "print \"/Users/prashant/work/pypharm/Ascorbic_Acid_Tablet_Results:\\n\", np.swapaxes(final_solution, 0, 1)\n",
    "np.set_printoptions(suppress=True)\n",
    "np.swapaxes(final_solution, 0, 1).to_file(\"/Users/prashant/work/pypharm/Ascorbic_Acid_Tablet_Results.csv\",\n",
    "           delimiter=\",\",\n",
    "           format='%10.3f'\n",
    "          )"
   ]
  },
  {
   "cell_type": "code",
   "execution_count": 193,
   "metadata": {
    "collapsed": false
   },
   "outputs": [],
   "source": [
    "a = np.asarray(np.swapaxes(final_solution, 0, 1))\n",
    "np.savetxt('/Users/prashant/work/pypharm/Ascorbic_Acid_Tablet_Results.csv',\n",
    "            np.swapaxes(final_solution, 0, 1),\n",
    "            delimiter=\",\",\n",
    "            fmt='%10.3f')"
   ]
  },
  {
   "cell_type": "code",
   "execution_count": 189,
   "metadata": {
    "collapsed": false
   },
   "outputs": [
    {
     "name": "stdout",
     "output_type": "stream",
     "text": [
      "[[  0.072   3.045   0.376  10.368   0.42   11.428   0.244   7.188]\n",
      " [  0.426  11.573   0.117   4.129   0.131   4.466   0.285   8.176]\n",
      " [  0.415  11.308   0.363  10.055   0.43   11.669   0.261   7.598]\n",
      " [  0.393  10.778   0.123   4.273   0.403  11.018   0.102   3.767]\n",
      " [  0.109   3.936   0.135   4.562   0.368  10.175   0.258   7.525]\n",
      " [  0.075   3.117   0.277   7.983   0.325   9.139   0.1     3.719]\n",
      " [  0.422  11.476   0.103   3.791   0.497  13.283   0.081   3.261]\n",
      " [  0.008   1.503   0.27    7.814   0.453  12.223   0.221   6.634]\n",
      " [  0.11    3.96    0.246   7.236   0.455  12.271   0.188   5.839]\n",
      " [  0.351   9.766   0.173   5.478   0.453  12.223   0.063   2.828]]\n"
     ]
    }
   ],
   "source": [
    "\n",
    "print np.swapaxes(final_solution, 0, 1)"
   ]
  },
  {
   "cell_type": "code",
   "execution_count": null,
   "metadata": {
    "collapsed": false
   },
   "outputs": [],
   "source": []
  },
  {
   "cell_type": "code",
   "execution_count": null,
   "metadata": {
    "collapsed": true
   },
   "outputs": [],
   "source": []
  }
 ],
 "metadata": {
  "kernelspec": {
   "display_name": "Python 2",
   "language": "python",
   "name": "python2"
  },
  "language_info": {
   "codemirror_mode": {
    "name": "ipython",
    "version": 2
   },
   "file_extension": ".py",
   "mimetype": "text/x-python",
   "name": "python",
   "nbconvert_exporter": "python",
   "pygments_lexer": "ipython2",
   "version": "2.7.10"
  }
 },
 "nbformat": 4,
 "nbformat_minor": 0
}
